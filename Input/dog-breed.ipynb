{
 "cells": [
  {
   "cell_type": "code",
   "execution_count": 1,
   "id": "active-rebate",
   "metadata": {},
   "outputs": [],
   "source": [
    "import requests\n",
    "import pandas as pd\n",
    "from pprint import pprint"
   ]
  },
  {
   "cell_type": "code",
   "execution_count": 2,
   "id": "middle-monroe",
   "metadata": {},
   "outputs": [],
   "source": [
    "# API KEY - though it's not needed?\n",
    "api_key = 'eeec1e46-9491-4fc5-aada-f8cd1955cf46'"
   ]
  },
  {
   "cell_type": "code",
   "execution_count": 3,
   "id": "respiratory-hospital",
   "metadata": {},
   "outputs": [],
   "source": [
    "#API URL\n",
    "url = 'https://api.thedogapi.com/v1/breeds'"
   ]
  },
  {
   "cell_type": "code",
   "execution_count": 4,
   "id": "subtle-suspension",
   "metadata": {},
   "outputs": [],
   "source": [
    "# get API results\n",
    "doggos = requests.get(url).json()"
   ]
  },
  {
   "cell_type": "code",
   "execution_count": 5,
   "id": "handled-flood",
   "metadata": {},
   "outputs": [
    {
     "data": {
      "text/plain": [
       "172"
      ]
     },
     "execution_count": 5,
     "metadata": {},
     "output_type": "execute_result"
    }
   ],
   "source": [
    "# checking that records meet 100 minimum\n",
    "\n",
    "# len(doggos)"
   ]
  },
  {
   "cell_type": "code",
   "execution_count": 40,
   "id": "dressed-express",
   "metadata": {},
   "outputs": [],
   "source": [
    "# doggos"
   ]
  },
  {
   "cell_type": "code",
   "execution_count": 28,
   "id": "southwest-operator",
   "metadata": {},
   "outputs": [],
   "source": [
    "# create a list of all attributes for dataframe\n",
    "all_attributes = []\n",
    "for group in doggos:\n",
    "    for line in group:\n",
    "        if line not in all_attributes:\n",
    "            all_attributes.append(line)\n",
    "# all_attributes"
   ]
  },
  {
   "cell_type": "code",
   "execution_count": 38,
   "id": "fitting-brand",
   "metadata": {},
   "outputs": [],
   "source": [
    "# count occurances of attributes\n",
    "att_count = {}\n",
    "for attribute in all_attributes:\n",
    "    count = 0\n",
    "    for group in doggos:\n",
    "        for line in group:\n",
    "            count += 1\n",
    "            att_count[line] = count\n",
    "# att_count"
   ]
  },
  {
   "cell_type": "code",
   "execution_count": 47,
   "id": "exterior-adrian",
   "metadata": {
    "scrolled": false
   },
   "outputs": [],
   "source": [
    "# Set-up Dog Dataframe (list of lists)\n",
    "dogs = []\n",
    "\n",
    "for puppers in doggos:\n",
    "    entry = []\n",
    "    name = puppers.get('name','none')\n",
    "    id_code = puppers.get('id', 'none')\n",
    "    breedgroup = puppers.get('breed_group','none')\n",
    "    temperament = puppers.get('temperament', 'none')\n",
    "    weight = puppers['weight'].get('imperial','none')\n",
    "    height = puppers['height'].get('imperial', 'none')\n",
    "    bred_for = puppers.get('bred_for','none')\n",
    "    life_span = puppers.get('life_span','none')\n",
    "    origin = puppers.get('origin','none')\n",
    "#     country_code = puppers.get('country_code')\n",
    "    ref_img_id = puppers.get('reference_image_id', 'none')\n",
    "    \n",
    "    entry.append(name)\n",
    "    entry.append(id_code)\n",
    "    entry.append(breedgroup)\n",
    "    entry.append(temperament)\n",
    "    entry.append(weight)\n",
    "    entry.append(height)\n",
    "    entry.append(bred_for)\n",
    "    entry.append(life_span)\n",
    "    entry.append(origin)\n",
    "#     entry.append(country_code)\n",
    "    entry.append(ref_img_id)\n",
    "    dogs.append(entry)\n",
    "\n",
    "\n",
    "\n",
    "\n",
    "\n",
    "# THESE are attributes I have not included\n",
    "#  'description'\n",
    "#  'history'"
   ]
  },
  {
   "cell_type": "code",
   "execution_count": 48,
   "id": "ideal-sustainability",
   "metadata": {},
   "outputs": [],
   "source": [
    "# create dataframe\n",
    "dogs_df = pd.DataFrame(dogs, columns =['Dog Breed', \n",
    "                                       'ID Code',\n",
    "                                       'Breed Group', \n",
    "                                       'Temperament', \n",
    "                                       'Weight', \n",
    "                                       'Height', \n",
    "                                       'Bred For', \n",
    "                                       'Life Span', \n",
    "                                       'Origin', \n",
    "#                                        'Country Code',\n",
    "                                       'Reference Image ID'\n",
    "                                      ])\n",
    "# dogs_df.head(20)"
   ]
  },
  {
   "cell_type": "markdown",
   "id": "lesbian-participation",
   "metadata": {},
   "source": [
    "### Data Cleaning\n",
    "Below contains steps taken to verify and clean data"
   ]
  },
  {
   "cell_type": "code",
   "execution_count": 17,
   "id": "understanding-medicine",
   "metadata": {},
   "outputs": [],
   "source": [
    "# ::COMPLETE:: \n",
    "# check reference image id VS image id to see if either are missing\n",
    "# RESULT: none were missing (counter = 0), so deleted image id \n",
    "\n",
    "# OLD CODE taken out of dogs list  --  img_id = puppers['image'].get('id','none')\n",
    "\n",
    "# counter = 0\n",
    "# for index, row in dogs_df.iterrows():\n",
    "#     if row[9] != row[10]:\n",
    "#         counter += 1\n",
    "# print(counter)"
   ]
  },
  {
   "cell_type": "code",
   "execution_count": 36,
   "id": "difficult-anger",
   "metadata": {},
   "outputs": [
    {
     "name": "stdout",
     "output_type": "stream",
     "text": [
      "5\n",
      "167\n"
     ]
    }
   ],
   "source": [
    "no_origin = 0\n",
    "origin = 0\n",
    "for index, row in dogs_df.iterrows():\n",
    "    if row[8] == 'none':\n",
    "        no_origin += 1\n",
    "    else:\n",
    "        origin += 1\n",
    "print(origin)\n",
    "print(no_origin)"
   ]
  },
  {
   "cell_type": "code",
   "execution_count": 18,
   "id": "raised-treasure",
   "metadata": {},
   "outputs": [],
   "source": [
    "# LAST STEP FOR DATA CLEANING (or intermediate step for viewing spreadsheet)\n",
    "# save dogs dataframe to csv file\n",
    "dogs_df.to_csv(r'C:\\Users\\chels\\OneDrive\\Desktop\\UNC Boot Camp\\PROJECTS\\Project-2\\Input\\dogs_df.csv')"
   ]
  },
  {
   "cell_type": "markdown",
   "id": "combined-contrast",
   "metadata": {},
   "source": [
    "### Temperaments\n",
    "Below the temperaments are listed"
   ]
  },
  {
   "cell_type": "code",
   "execution_count": 69,
   "id": "minus-daily",
   "metadata": {},
   "outputs": [],
   "source": [
    "# create list of unique temperaments\n",
    "temp_list = []\n",
    "for dog in doggos:\n",
    "    if 'temperament' in dog:\n",
    "        temp = dog['temperament'].split(',')\n",
    "        for att in temp:\n",
    "            if att not in temp_list:\n",
    "                temp_list.append(att)\n",
    "                \n",
    "                \n",
    "# pprint(temp_list)"
   ]
  },
  {
   "cell_type": "code",
   "execution_count": null,
   "id": "broken-operator",
   "metadata": {},
   "outputs": [],
   "source": [
    "# create dataframe of \n",
    "for "
   ]
  },
  {
   "cell_type": "markdown",
   "id": "american-hypothesis",
   "metadata": {},
   "source": [
    "### Group-Bys\n",
    "below are grouped counts of different attributes"
   ]
  },
  {
   "cell_type": "code",
   "execution_count": null,
   "id": "selected-crash",
   "metadata": {},
   "outputs": [],
   "source": [
    "# Breed group\n",
    "breed_group = dogs_df.groupby('Breed Group')\n",
    "dog_group.count()"
   ]
  }
 ],
 "metadata": {
  "kernelspec": {
   "display_name": "Python 3",
   "language": "python",
   "name": "python3"
  },
  "language_info": {
   "codemirror_mode": {
    "name": "ipython",
    "version": 3
   },
   "file_extension": ".py",
   "mimetype": "text/x-python",
   "name": "python",
   "nbconvert_exporter": "python",
   "pygments_lexer": "ipython3",
   "version": "3.6.10"
  }
 },
 "nbformat": 4,
 "nbformat_minor": 5
}
