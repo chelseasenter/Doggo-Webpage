{
 "cells": [
  {
   "cell_type": "markdown",
   "id": "southeast-silly",
   "metadata": {},
   "source": [
    "### Starter Section\n",
    "- [x] set up imports\n",
    "- [x] API - set-up, call, display\n",
    "- [x] verify at least 100 records"
   ]
  },
  {
   "cell_type": "code",
   "execution_count": 1,
   "id": "active-rebate",
   "metadata": {},
   "outputs": [],
   "source": [
    "# set-up basic imports\n",
    "import requests\n",
    "import pandas as pd\n",
    "from pprint import pprint\n",
    "\n",
    "# set-up imports for creating SQL tables\n",
    "import numpy as np\n",
    "from itertools import chain"
   ]
  },
  {
   "cell_type": "code",
   "execution_count": 2,
   "id": "middle-monroe",
   "metadata": {},
   "outputs": [],
   "source": [
    "# API KEY - though it's not needed?\n",
    "api_key = 'eeec1e46-9491-4fc5-aada-f8cd1955cf46'"
   ]
  },
  {
   "cell_type": "code",
   "execution_count": 3,
   "id": "respiratory-hospital",
   "metadata": {},
   "outputs": [],
   "source": [
    "#API URL\n",
    "url = 'https://api.thedogapi.com/v1/breeds'"
   ]
  },
  {
   "cell_type": "code",
   "execution_count": 4,
   "id": "subtle-suspension",
   "metadata": {},
   "outputs": [],
   "source": [
    "# get API results\n",
    "doggos = requests.get(url).json()"
   ]
  },
  {
   "cell_type": "code",
   "execution_count": 5,
   "id": "ecological-birthday",
   "metadata": {},
   "outputs": [],
   "source": [
    "# display raw json\n",
    "\n",
    "# doggos"
   ]
  },
  {
   "cell_type": "code",
   "execution_count": 6,
   "id": "handled-flood",
   "metadata": {},
   "outputs": [
    {
     "data": {
      "text/plain": "172"
     },
     "execution_count": 6,
     "metadata": {},
     "output_type": "execute_result"
    }
   ],
   "source": [
    "# checking that records meet 100 minimum requirement\n",
    "\n",
    "len(doggos)"
   ]
  },
  {
   "cell_type": "markdown",
   "id": "classical-vienna",
   "metadata": {},
   "source": [
    "### Data Cleaning\n",
    "- [x] get list of all attributes used and count to evaluate columns to be used\n",
    "- [x] reference image id VS image id (resolved - deleted image id)"
   ]
  },
  {
   "cell_type": "code",
   "execution_count": 7,
   "id": "southwest-operator",
   "metadata": {},
   "outputs": [],
   "source": [
    "# create a list of all attributes for dataframe to evaluate appropriate columns for dataframe\n",
    "all_attributes = []\n",
    "for group in doggos:\n",
    "    for line in group:\n",
    "        if line not in all_attributes:\n",
    "            all_attributes.append(line)\n",
    "\n",
    "# count occurances of attributes\n",
    "att_count = {}\n",
    "for attribute in all_attributes:\n",
    "    count = 0\n",
    "    for group in doggos:\n",
    "        if attribute in group:\n",
    "            count += 1\n",
    "            att_count[attribute] = count\n",
    "            \n",
    "# att_count"
   ]
  },
  {
   "cell_type": "code",
   "execution_count": 8,
   "id": "secure-peace",
   "metadata": {},
   "outputs": [],
   "source": [
    "# check reference image id VS image id to see if either are missing\n",
    "# RESULT: none were missing (counter = 0), so deleted image id \n",
    "\n",
    "# OLD CODE taken out of dogs list  --  img_id = puppers['image'].get('id','none')\n",
    "\n",
    "# counter = 0\n",
    "# for index, row in dogs_df.iterrows():\n",
    "#     if row[9] != row[10]:\n",
    "#         counter += 1\n",
    "# print(counter)"
   ]
  },
  {
   "cell_type": "markdown",
   "id": "charming-weapon",
   "metadata": {},
   "source": [
    "### Create Main Dataframe\n",
    "- [x] set-up: for loops to create list of lists\n",
    "- [x] dataframe: assign columns\n",
    "- [x] save dataframe as csv"
   ]
  },
  {
   "cell_type": "code",
   "execution_count": 9,
   "id": "exterior-adrian",
   "metadata": {
    "scrolled": false
   },
   "outputs": [],
   "source": [
    "# Set-up Dog Dataframe (list of lists)\n",
    "dogs = []\n",
    "\n",
    "for puppers in doggos:\n",
    "    entry = []\n",
    "    name = puppers.get('name','none')\n",
    "    id_code = puppers.get('id', 'none')\n",
    "    breedgroup = puppers.get('breed_group','none')\n",
    "    temperament = puppers.get('temperament', 'none')\n",
    "    weight = puppers['weight'].get('imperial','none')\n",
    "    height = puppers['height'].get('imperial', 'none')\n",
    "    bred_for = puppers.get('bred_for','none')\n",
    "    life_span = puppers.get('life_span','none')\n",
    "    origin = puppers.get('origin','none')\n",
    "    country_code = puppers.get('country_code')\n",
    "    ref_img_id = puppers.get('reference_image_id', 'none')\n",
    "    \n",
    "    entry.append(name)\n",
    "    entry.append(id_code)\n",
    "    entry.append(breedgroup)\n",
    "    entry.append(temperament)\n",
    "    entry.append(weight)\n",
    "    entry.append(height)\n",
    "    entry.append(bred_for)\n",
    "    entry.append(life_span)\n",
    "    entry.append(origin)\n",
    "    entry.append(country_code)\n",
    "    entry.append(ref_img_id)\n",
    "    dogs.append(entry)\n",
    "\n",
    "\n",
    "\n",
    "\n",
    "\n",
    "# THESE are attributes I have not included\n",
    "#  'description'\n",
    "#  'history'\n",
    "# 'image id'"
   ]
  },
  {
   "cell_type": "code",
   "execution_count": 10,
   "id": "ideal-sustainability",
   "metadata": {},
   "outputs": [],
   "source": [
    "# create dataframe\n",
    "dogs_df = pd.DataFrame(dogs, columns =['Dog Breed', \n",
    "                                       'ID Code',\n",
    "                                       'Breed Group', \n",
    "                                       'Temperament', \n",
    "                                       'Weight', \n",
    "                                       'Height', \n",
    "                                       'Bred For', \n",
    "                                       'Life Span', \n",
    "                                       'Origin', \n",
    "                                       'Country Code',\n",
    "                                       'Reference Image ID'\n",
    "                                      ])\n",
    "# dogs_df.head(20)"
   ]
  },
  {
   "cell_type": "code",
   "execution_count": 11,
   "id": "raised-treasure",
   "metadata": {},
   "source": [
    "# save dogs dataframe to csv file\n",
    "# dogs_df.to_csv(r'C:\\Users\\chels\\OneDrive\\Desktop\\UNC Boot Camp\\PROJECTS\\Project-2\\Input\\dogs_df.csv')"
   ],
   "outputs": [
    {
     "ename": "FileNotFoundError",
     "evalue": "[Errno 2] No such file or directory: 'C:\\\\Users\\\\chels\\\\OneDrive\\\\Desktop\\\\UNC Boot Camp\\\\PROJECTS\\\\Project-2\\\\Input\\\\dogs_df.csv'",
     "output_type": "error",
     "traceback": [
      "\u001B[1;31m---------------------------------------------------------------------------\u001B[0m",
      "\u001B[1;31mFileNotFoundError\u001B[0m                         Traceback (most recent call last)",
      "\u001B[1;32m<ipython-input-11-fbcdd9115d6d>\u001B[0m in \u001B[0;36m<module>\u001B[1;34m\u001B[0m\n\u001B[0;32m      1\u001B[0m \u001B[1;31m# save dogs dataframe to csv file\u001B[0m\u001B[1;33m\u001B[0m\u001B[1;33m\u001B[0m\u001B[1;33m\u001B[0m\u001B[0m\n\u001B[1;32m----> 2\u001B[1;33m \u001B[0mdogs_df\u001B[0m\u001B[1;33m.\u001B[0m\u001B[0mto_csv\u001B[0m\u001B[1;33m(\u001B[0m\u001B[1;34mr'C:\\Users\\chels\\OneDrive\\Desktop\\UNC Boot Camp\\PROJECTS\\Project-2\\Input\\dogs_df.csv'\u001B[0m\u001B[1;33m)\u001B[0m\u001B[1;33m\u001B[0m\u001B[1;33m\u001B[0m\u001B[0m\n\u001B[0m\u001B[0;32m      3\u001B[0m \u001B[1;33m\u001B[0m\u001B[0m\n",
      "\u001B[1;32m~\\anaconda3\\envs\\PythonData\\lib\\site-packages\\pandas\\core\\generic.py\u001B[0m in \u001B[0;36mto_csv\u001B[1;34m(self, path_or_buf, sep, na_rep, float_format, columns, header, index, index_label, mode, encoding, compression, quoting, quotechar, line_terminator, chunksize, date_format, doublequote, escapechar, decimal)\u001B[0m\n\u001B[0;32m   3202\u001B[0m             \u001B[0mdecimal\u001B[0m\u001B[1;33m=\u001B[0m\u001B[0mdecimal\u001B[0m\u001B[1;33m,\u001B[0m\u001B[1;33m\u001B[0m\u001B[1;33m\u001B[0m\u001B[0m\n\u001B[0;32m   3203\u001B[0m         )\n\u001B[1;32m-> 3204\u001B[1;33m         \u001B[0mformatter\u001B[0m\u001B[1;33m.\u001B[0m\u001B[0msave\u001B[0m\u001B[1;33m(\u001B[0m\u001B[1;33m)\u001B[0m\u001B[1;33m\u001B[0m\u001B[1;33m\u001B[0m\u001B[0m\n\u001B[0m\u001B[0;32m   3205\u001B[0m \u001B[1;33m\u001B[0m\u001B[0m\n\u001B[0;32m   3206\u001B[0m         \u001B[1;32mif\u001B[0m \u001B[0mpath_or_buf\u001B[0m \u001B[1;32mis\u001B[0m \u001B[1;32mNone\u001B[0m\u001B[1;33m:\u001B[0m\u001B[1;33m\u001B[0m\u001B[1;33m\u001B[0m\u001B[0m\n",
      "\u001B[1;32m~\\anaconda3\\envs\\PythonData\\lib\\site-packages\\pandas\\io\\formats\\csvs.py\u001B[0m in \u001B[0;36msave\u001B[1;34m(self)\u001B[0m\n\u001B[0;32m    186\u001B[0m                 \u001B[0mself\u001B[0m\u001B[1;33m.\u001B[0m\u001B[0mmode\u001B[0m\u001B[1;33m,\u001B[0m\u001B[1;33m\u001B[0m\u001B[1;33m\u001B[0m\u001B[0m\n\u001B[0;32m    187\u001B[0m                 \u001B[0mencoding\u001B[0m\u001B[1;33m=\u001B[0m\u001B[0mself\u001B[0m\u001B[1;33m.\u001B[0m\u001B[0mencoding\u001B[0m\u001B[1;33m,\u001B[0m\u001B[1;33m\u001B[0m\u001B[1;33m\u001B[0m\u001B[0m\n\u001B[1;32m--> 188\u001B[1;33m                 \u001B[0mcompression\u001B[0m\u001B[1;33m=\u001B[0m\u001B[0mdict\u001B[0m\u001B[1;33m(\u001B[0m\u001B[0mself\u001B[0m\u001B[1;33m.\u001B[0m\u001B[0mcompression_args\u001B[0m\u001B[1;33m,\u001B[0m \u001B[0mmethod\u001B[0m\u001B[1;33m=\u001B[0m\u001B[0mself\u001B[0m\u001B[1;33m.\u001B[0m\u001B[0mcompression\u001B[0m\u001B[1;33m)\u001B[0m\u001B[1;33m,\u001B[0m\u001B[1;33m\u001B[0m\u001B[1;33m\u001B[0m\u001B[0m\n\u001B[0m\u001B[0;32m    189\u001B[0m             )\n\u001B[0;32m    190\u001B[0m             \u001B[0mclose\u001B[0m \u001B[1;33m=\u001B[0m \u001B[1;32mTrue\u001B[0m\u001B[1;33m\u001B[0m\u001B[1;33m\u001B[0m\u001B[0m\n",
      "\u001B[1;32m~\\anaconda3\\envs\\PythonData\\lib\\site-packages\\pandas\\io\\common.py\u001B[0m in \u001B[0;36mget_handle\u001B[1;34m(path_or_buf, mode, encoding, compression, memory_map, is_text)\u001B[0m\n\u001B[0;32m    426\u001B[0m         \u001B[1;32mif\u001B[0m \u001B[0mencoding\u001B[0m\u001B[1;33m:\u001B[0m\u001B[1;33m\u001B[0m\u001B[1;33m\u001B[0m\u001B[0m\n\u001B[0;32m    427\u001B[0m             \u001B[1;31m# Encoding\u001B[0m\u001B[1;33m\u001B[0m\u001B[1;33m\u001B[0m\u001B[1;33m\u001B[0m\u001B[0m\n\u001B[1;32m--> 428\u001B[1;33m             \u001B[0mf\u001B[0m \u001B[1;33m=\u001B[0m \u001B[0mopen\u001B[0m\u001B[1;33m(\u001B[0m\u001B[0mpath_or_buf\u001B[0m\u001B[1;33m,\u001B[0m \u001B[0mmode\u001B[0m\u001B[1;33m,\u001B[0m \u001B[0mencoding\u001B[0m\u001B[1;33m=\u001B[0m\u001B[0mencoding\u001B[0m\u001B[1;33m,\u001B[0m \u001B[0mnewline\u001B[0m\u001B[1;33m=\u001B[0m\u001B[1;34m\"\"\u001B[0m\u001B[1;33m)\u001B[0m\u001B[1;33m\u001B[0m\u001B[1;33m\u001B[0m\u001B[0m\n\u001B[0m\u001B[0;32m    429\u001B[0m         \u001B[1;32melif\u001B[0m \u001B[0mis_text\u001B[0m\u001B[1;33m:\u001B[0m\u001B[1;33m\u001B[0m\u001B[1;33m\u001B[0m\u001B[0m\n\u001B[0;32m    430\u001B[0m             \u001B[1;31m# No explicit encoding\u001B[0m\u001B[1;33m\u001B[0m\u001B[1;33m\u001B[0m\u001B[1;33m\u001B[0m\u001B[0m\n",
      "\u001B[1;31mFileNotFoundError\u001B[0m: [Errno 2] No such file or directory: 'C:\\\\Users\\\\chels\\\\OneDrive\\\\Desktop\\\\UNC Boot Camp\\\\PROJECTS\\\\Project-2\\\\Input\\\\dogs_df.csv'"
     ]
    }
   ]
  },
  {
   "cell_type": "markdown",
   "id": "combined-contrast",
   "metadata": {},
   "source": [
    "### Temperaments\n",
    "- [x] create list of all temperaments (resolved: 124 unique temperaments used)\n",
    "- [x] count the occurance of each temperament in dataset\n",
    "- [x] sort occurances from greatest occurance to least\n",
    "- [x] create temperament (columns) V dog breeds (rows) table"
   ]
  },
  {
   "cell_type": "code",
   "execution_count": 12,
   "id": "minus-daily",
   "metadata": {},
   "outputs": [],
   "source": [
    "# create list of all temperaments (listed once)\n",
    "temp_list = []\n",
    "for dog in doggos:\n",
    "    if 'temperament' in dog:\n",
    "        temp = dog['temperament'].split(',')\n",
    "        for att in temp:\n",
    "            att = att.strip()\n",
    "            if att not in temp_list:\n",
    "                temp_list.append(att)\n",
    "                \n",
    "# print(len(temp_list))\n",
    "# pprint(temp_list)"
   ]
  },
  {
   "cell_type": "code",
   "execution_count": 14,
   "id": "subsequent-loading",
   "metadata": {},
   "outputs": [],
   "source": [
    "# creating temperament id && name table\n",
    "temps_df = pd.DataFrame({'temp_name': temp_list})\n",
    "temps_df = temps_df.sort_values(by='temp_name').reset_index(drop=True)\n",
    "temps_df.index.name = 'temp_id'\n",
    "temps_df = temps_df.reset_index()\n",
    "\n",
    "# temp_df\n",
    "\n",
    "# temp_id && temp_name - save to csv for Brandy\n",
    "# temps_df.to_csv(r'C:\\Users\\chels\\OneDrive\\Desktop\\UNC Boot Camp\\PROJECTS\\Project-2\\Input\\SQL\\temp_id.csv')"
   ]
  },
  {
   "cell_type": "code",
   "execution_count": 15,
   "id": "willing-cyprus",
   "metadata": {},
   "outputs": [],
   "source": [
    "# add dog_breed ID to dogs_df\n",
    "dogs_df_id = dogs_df.reset_index()\n",
    "dogs_df_id = dogs_df_id.rename(columns={'index': 'Breed ID'})\n",
    "# dogs_df_id"
   ]
  },
  {
   "cell_type": "code",
   "execution_count": null,
   "id": "thirty-drawing",
   "metadata": {},
   "outputs": [],
   "source": [
    "dogs_df_id.to_csv(r'C:\\Users\\chels\\OneDrive\\Desktop\\UNC Boot Camp\\PROJECTS\\Project-2\\Input\\SQL\\main.csv')"
   ]
  },
  {
   "cell_type": "code",
   "execution_count": 16,
   "id": "single-funeral",
   "metadata": {},
   "outputs": [],
   "source": [
    "# create breed V temperament table, use https://stackoverflow.com/questions/50731229/split-cell-into-multiple-rows-in-pandas-dataframe\n",
    "# use 'lookup' to replace breed with id - BOOM there's middle table (reference 62 from ETL project)\n",
    "\n",
    "# return list from series of comma-separated strings\n",
    "def chaining(s):\n",
    "    return list(chain.from_iterable(s.str.split(',')))\n",
    "\n",
    "# calculate lengths of splits\n",
    "temps = dogs_df_id['Temperament'].str.split(',').map(len)\n",
    "\n",
    "# create new dataframe, repeating or chaining as appropriate\n",
    "dogs_temps = pd.DataFrame({'breed_id': np.repeat(dogs_df_id['Breed ID'], temps),\n",
    "                    'temp_name': chaining(dogs_df_id['Temperament'])})\n",
    "dogs_temps = dogs_temps.reset_index(drop=True)\n",
    "\n",
    "# dogs_temps"
   ]
  },
  {
   "cell_type": "code",
   "execution_count": 17,
   "id": "innovative-collective",
   "metadata": {},
   "outputs": [],
   "source": [
    "merged = dogs_temps.merge(temps_df, how='inner', on='temp_name')\n",
    "breed_temp_ids = merged[['breed_id', 'temp_id']]\n",
    "\n",
    "# breed_temp_ids"
   ]
  },
  {
   "cell_type": "code",
   "execution_count": null,
   "id": "noble-alexander",
   "metadata": {},
   "outputs": [],
   "source": [
    "# save temp_id && breed_id to csv\n",
    "breed_temp_ids.to_csv(r'C:\\Users\\chels\\OneDrive\\Desktop\\UNC Boot Camp\\PROJECTS\\Project-2\\Input\\SQL\\breed_temp_id.csv')"
   ]
  },
  {
   "cell_type": "markdown",
   "id": "american-hypothesis",
   "metadata": {},
   "source": [
    "### EXTRAS: Group-Bys && Counts\n",
    "- [x]  group by breed group\n",
    "- [ ]  group by weight\n",
    "    - split string into min/max, store as min max vals (if 1 value min/max same, if 0 'no age' or NaN)\n",
    "    - create list of weights based on lowest highest \n",
    "    - create new table with weights as columns V names as rows, t/f values \n",
    "    - count weights \n",
    "- [ ]  group by height\n",
    "    - split string into min/max, store as min max vals (if 1 value then min/max same, if 0 then 'no age' or NaN)\n",
    "    - create list of heights based on lowest + highest\n",
    "    - create new table with heights as columns V names as rows, t/f values\n",
    "    - count heights \n",
    "- [x] count temperament occurances\n",
    "    - create a count of all temperaments, store in dictionary\n",
    "    - create a dataframe\n",
    "    "
   ]
  },
  {
   "cell_type": "code",
   "execution_count": 18,
   "id": "selected-crash",
   "metadata": {},
   "outputs": [],
   "source": [
    "# Breed group\n",
    "gb_breed_group = dogs_df.groupby('Breed Group')\n",
    "breed_groups = pd.DataFrame(gb_breed_group['Dog Breed'].count()).reset_index().drop([0])\n",
    "\n",
    "# breed_groups"
   ]
  },
  {
   "cell_type": "code",
   "execution_count": 19,
   "id": "disabled-produce",
   "metadata": {},
   "outputs": [],
   "source": [
    "# count number of times temperaments appear in dataset\n",
    "temp_counts = {}\n",
    "\n",
    "for temperament in temp_list:\n",
    "    counter = 0\n",
    "    for dog in doggos:\n",
    "        if 'temperament' in dog:\n",
    "            if temperament in dog['temperament']:\n",
    "                counter += 1\n",
    "                temp_counts[temperament] = counter\n",
    "\n",
    "# create df\n",
    "temp_counts_df = pd.DataFrame(temp_counts.items(), columns=['Temperament', 'Count'])\n",
    "# temp_counts_df\n",
    "\n",
    "# save to csv --\n",
    "# temp_counts_df.to_csv(r'C:\\Users\\chels\\OneDrive\\Desktop\\UNC Boot Camp\\PROJECTS\\Project-2\\Input\\temperament_counts.csv')\n",
    "\n",
    "## OPTIONAL : sorted temperaments by highest occurances\n",
    "# sort temp_counts from greatest to least\n",
    "\n",
    "# temp_count_sort = pd.DataFrame.from_dict(temp_counts, \n",
    "#                        orient='index', \n",
    "#                        columns=['Temperament Count']).sort_values(by='Temperament Count', \n",
    "#                                                                   ascending=False)\n",
    "# temp_count_sort.head(30)\n",
    "\n",
    "# save to csv --\n",
    "# temp_count_sort.to_csv(r'C:\\Users\\chels\\OneDrive\\Desktop\\UNC Boot Camp\\PROJECTS\\Project-2\\Input\\temperament_counts_sorted.csv')"
   ]
  },
  {
   "cell_type": "code",
   "execution_count": 20,
   "id": "collect-soldier",
   "metadata": {},
   "outputs": [],
   "source": [
    "## EXTRAS?\n",
    "\n",
    "## create dataframe of temperaments, each dog as rows temps as columns\n",
    "# list of lists, dog name as first list value, t/f for each temperament\n",
    "all_dogs = []\n",
    "for dog in doggos:\n",
    "    dog_list = [dog['name']]\n",
    "    if 'temperament' in dog:\n",
    "        for temperament in temp_list:\n",
    "            if temperament in dog['temperament']:\n",
    "                dog_list.append('True')\n",
    "            else:\n",
    "                dog_list.append('False')\n",
    "    all_dogs.append(dog_list)\n",
    "\n",
    "# create table with list of lists, add 'Name' to temp_list to accommodate first list value\n",
    "column_names = ['Name'] + temp_list\n",
    "temp_dogs_table = pd.DataFrame(all_dogs, columns= column_names)\n",
    "# temp_dogs_table"
   ]
  },
  {
   "cell_type": "code",
   "execution_count": null,
   "id": "baking-strike",
   "metadata": {},
   "outputs": [],
   "source": []
  }
 ],
 "metadata": {
  "kernelspec": {
   "display_name": "Python 3",
   "language": "python",
   "name": "python3"
  },
  "language_info": {
   "codemirror_mode": {
    "name": "ipython",
    "version": 3
   },
   "file_extension": ".py",
   "mimetype": "text/x-python",
   "name": "python",
   "nbconvert_exporter": "python",
   "pygments_lexer": "ipython3",
   "version": "3.6.10"
  }
 },
 "nbformat": 4,
 "nbformat_minor": 5
}