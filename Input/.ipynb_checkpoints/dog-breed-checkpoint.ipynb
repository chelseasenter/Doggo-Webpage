{
 "cells": [
  {
   "cell_type": "code",
   "execution_count": 2,
   "id": "active-rebate",
   "metadata": {},
   "outputs": [],
   "source": [
    "import requests\n",
    "import pandas as pd\n",
    "from pprint import pprint\n"
   ]
  },
  {
   "cell_type": "code",
   "execution_count": 3,
   "id": "middle-monroe",
   "metadata": {},
   "outputs": [],
   "source": [
    "api_key = 'eeec1e46-9491-4fc5-aada-f8cd1955cf46'"
   ]
  },
  {
   "cell_type": "code",
   "execution_count": 4,
   "id": "respiratory-hospital",
   "metadata": {},
   "outputs": [],
   "source": [
    "url = 'https://api.thedogapi.com/v1/breeds'"
   ]
  },
  {
   "cell_type": "code",
   "execution_count": 5,
   "id": "subtle-suspension",
   "metadata": {},
   "outputs": [
    {
     "name": "stdout",
     "output_type": "stream",
     "text": [
      "{'bred_for': 'Small rodent hunting, lapdog',\n",
      " 'breed_group': 'Toy',\n",
      " 'height': {'imperial': '9 - 11.5', 'metric': '23 - 29'},\n",
      " 'id': 1,\n",
      " 'image': {'height': 1199,\n",
      "           'id': 'BJa4kxc4X',\n",
      "           'url': 'https://cdn2.thedogapi.com/images/BJa4kxc4X.jpg',\n",
      "           'width': 1600},\n",
      " 'life_span': '10 - 12 years',\n",
      " 'name': 'Affenpinscher',\n",
      " 'origin': 'Germany, France',\n",
      " 'reference_image_id': 'BJa4kxc4X',\n",
      " 'temperament': 'Stubborn, Curious, Playful, Adventurous, Active, Fun-loving',\n",
      " 'weight': {'imperial': '6 - 13', 'metric': '3 - 6'}}\n"
     ]
    }
   ],
   "source": [
    "doggos = requests.get(url).json()\n",
    "pprint(doggos[0])"
   ]
  },
  {
   "cell_type": "code",
   "execution_count": 6,
   "id": "handled-flood",
   "metadata": {},
   "outputs": [
    {
     "data": {
      "text/plain": [
       "172"
      ]
     },
     "execution_count": 6,
     "metadata": {},
     "output_type": "execute_result"
    }
   ],
   "source": [
    "len(doggos)"
   ]
  },
  {
   "cell_type": "code",
   "execution_count": 13,
   "id": "exterior-adrian",
   "metadata": {
    "scrolled": false
   },
   "outputs": [],
   "source": [
    "dogs = []\n",
    "\n",
    "for puppers in doggos:\n",
    "    entry = []\n",
    "    name = puppers['name']\n",
    "    breedgroup = puppers.get('breed_group','none')\n",
    "    temperament = puppers.get('temperament', 'none')\n",
    "    weight = puppers['weight'].get('imperial','none')\n",
    "    entry.append(name)\n",
    "    entry.append(breedgroup)\n",
    "    entry.append(temperament)\n",
    "    entry.append(weight)\n",
    "    dogs.append(entry)"
   ]
  },
  {
   "cell_type": "code",
   "execution_count": 8,
   "id": "ideal-sustainability",
   "metadata": {},
   "outputs": [],
   "source": [
    "# create dataframe\n",
    "dogs_df = pd.DataFrame(dogs, columns =['Dog Breed', 'Dog Group', 'Temperament', 'Weight'])"
   ]
  },
  {
   "cell_type": "code",
   "execution_count": 14,
   "id": "equipped-individual",
   "metadata": {},
   "outputs": [
    {
     "data": {
      "text/html": [
       "<div>\n",
       "<style scoped>\n",
       "    .dataframe tbody tr th:only-of-type {\n",
       "        vertical-align: middle;\n",
       "    }\n",
       "\n",
       "    .dataframe tbody tr th {\n",
       "        vertical-align: top;\n",
       "    }\n",
       "\n",
       "    .dataframe thead th {\n",
       "        text-align: right;\n",
       "    }\n",
       "</style>\n",
       "<table border=\"1\" class=\"dataframe\">\n",
       "  <thead>\n",
       "    <tr style=\"text-align: right;\">\n",
       "      <th></th>\n",
       "      <th>Dog Breed</th>\n",
       "      <th>Dog Group</th>\n",
       "      <th>Temperament</th>\n",
       "      <th>Weight</th>\n",
       "    </tr>\n",
       "  </thead>\n",
       "  <tbody>\n",
       "    <tr>\n",
       "      <th>0</th>\n",
       "      <td>Affenpinscher</td>\n",
       "      <td>Toy</td>\n",
       "      <td>Stubborn, Curious, Playful, Adventurous, Activ...</td>\n",
       "      <td>6 - 13</td>\n",
       "    </tr>\n",
       "    <tr>\n",
       "      <th>1</th>\n",
       "      <td>Afghan Hound</td>\n",
       "      <td>Hound</td>\n",
       "      <td>Aloof, Clownish, Dignified, Independent, Happy</td>\n",
       "      <td>50 - 60</td>\n",
       "    </tr>\n",
       "    <tr>\n",
       "      <th>2</th>\n",
       "      <td>African Hunting Dog</td>\n",
       "      <td>none</td>\n",
       "      <td>Wild, Hardworking, Dutiful</td>\n",
       "      <td>44 - 66</td>\n",
       "    </tr>\n",
       "    <tr>\n",
       "      <th>3</th>\n",
       "      <td>Airedale Terrier</td>\n",
       "      <td>Terrier</td>\n",
       "      <td>Outgoing, Friendly, Alert, Confident, Intellig...</td>\n",
       "      <td>40 - 65</td>\n",
       "    </tr>\n",
       "    <tr>\n",
       "      <th>4</th>\n",
       "      <td>Akbash Dog</td>\n",
       "      <td>Working</td>\n",
       "      <td>Loyal, Independent, Intelligent, Brave</td>\n",
       "      <td>90 - 120</td>\n",
       "    </tr>\n",
       "    <tr>\n",
       "      <th>...</th>\n",
       "      <td>...</td>\n",
       "      <td>...</td>\n",
       "      <td>...</td>\n",
       "      <td>...</td>\n",
       "    </tr>\n",
       "    <tr>\n",
       "      <th>167</th>\n",
       "      <td>Wire Fox Terrier</td>\n",
       "      <td>none</td>\n",
       "      <td>Fearless, Friendly, Bold, Keen, Alert, Quick</td>\n",
       "      <td>15 - 19</td>\n",
       "    </tr>\n",
       "    <tr>\n",
       "      <th>168</th>\n",
       "      <td>Wirehaired Pointing Griffon</td>\n",
       "      <td>Sporting</td>\n",
       "      <td>Loyal, Gentle, Vigilant, Trainable, Proud</td>\n",
       "      <td>45 - 70</td>\n",
       "    </tr>\n",
       "    <tr>\n",
       "      <th>169</th>\n",
       "      <td>Wirehaired Vizsla</td>\n",
       "      <td>Sporting</td>\n",
       "      <td>none</td>\n",
       "      <td>45 - 65</td>\n",
       "    </tr>\n",
       "    <tr>\n",
       "      <th>170</th>\n",
       "      <td>Xoloitzcuintli</td>\n",
       "      <td>Non-Sporting</td>\n",
       "      <td>Cheerful, Alert, Companionable, Intelligent, P...</td>\n",
       "      <td>9 - 31</td>\n",
       "    </tr>\n",
       "    <tr>\n",
       "      <th>171</th>\n",
       "      <td>Yorkshire Terrier</td>\n",
       "      <td>Toy</td>\n",
       "      <td>Bold, Independent, Confident, Intelligent, Cou...</td>\n",
       "      <td>4 - 7</td>\n",
       "    </tr>\n",
       "  </tbody>\n",
       "</table>\n",
       "<p>172 rows × 4 columns</p>\n",
       "</div>"
      ],
      "text/plain": [
       "                       Dog Breed     Dog Group  \\\n",
       "0                  Affenpinscher           Toy   \n",
       "1                   Afghan Hound         Hound   \n",
       "2            African Hunting Dog          none   \n",
       "3               Airedale Terrier       Terrier   \n",
       "4                     Akbash Dog       Working   \n",
       "..                           ...           ...   \n",
       "167             Wire Fox Terrier          none   \n",
       "168  Wirehaired Pointing Griffon      Sporting   \n",
       "169            Wirehaired Vizsla      Sporting   \n",
       "170               Xoloitzcuintli  Non-Sporting   \n",
       "171            Yorkshire Terrier           Toy   \n",
       "\n",
       "                                           Temperament    Weight  \n",
       "0    Stubborn, Curious, Playful, Adventurous, Activ...    6 - 13  \n",
       "1       Aloof, Clownish, Dignified, Independent, Happy   50 - 60  \n",
       "2                           Wild, Hardworking, Dutiful   44 - 66  \n",
       "3    Outgoing, Friendly, Alert, Confident, Intellig...   40 - 65  \n",
       "4               Loyal, Independent, Intelligent, Brave  90 - 120  \n",
       "..                                                 ...       ...  \n",
       "167       Fearless, Friendly, Bold, Keen, Alert, Quick   15 - 19  \n",
       "168          Loyal, Gentle, Vigilant, Trainable, Proud   45 - 70  \n",
       "169                                               none   45 - 65  \n",
       "170  Cheerful, Alert, Companionable, Intelligent, P...    9 - 31  \n",
       "171  Bold, Independent, Confident, Intelligent, Cou...     4 - 7  \n",
       "\n",
       "[172 rows x 4 columns]"
      ]
     },
     "execution_count": 14,
     "metadata": {},
     "output_type": "execute_result"
    }
   ],
   "source": [
    "# save dogs dataframe to csv file\n",
    "dogs_df.to_csv(r'C:\\Users\\chels\\OneDrive\\Desktop\\UNC Boot Camp\\PROJECTS\\Project-2\\Input\\dogs_df.csv')"
   ]
  },
  {
   "cell_type": "code",
   "execution_count": 10,
   "id": "vertical-noise",
   "metadata": {},
   "outputs": [
    {
     "data": {
      "text/html": [
       "<div>\n",
       "<style scoped>\n",
       "    .dataframe tbody tr th:only-of-type {\n",
       "        vertical-align: middle;\n",
       "    }\n",
       "\n",
       "    .dataframe tbody tr th {\n",
       "        vertical-align: top;\n",
       "    }\n",
       "\n",
       "    .dataframe thead th {\n",
       "        text-align: right;\n",
       "    }\n",
       "</style>\n",
       "<table border=\"1\" class=\"dataframe\">\n",
       "  <thead>\n",
       "    <tr style=\"text-align: right;\">\n",
       "      <th></th>\n",
       "      <th>Dog Breed</th>\n",
       "      <th>Temperament</th>\n",
       "      <th>Weight</th>\n",
       "    </tr>\n",
       "    <tr>\n",
       "      <th>Dog Group</th>\n",
       "      <th></th>\n",
       "      <th></th>\n",
       "      <th></th>\n",
       "    </tr>\n",
       "  </thead>\n",
       "  <tbody>\n",
       "    <tr>\n",
       "      <th></th>\n",
       "      <td>1</td>\n",
       "      <td>1</td>\n",
       "      <td>1</td>\n",
       "    </tr>\n",
       "    <tr>\n",
       "      <th>Herding</th>\n",
       "      <td>21</td>\n",
       "      <td>21</td>\n",
       "      <td>21</td>\n",
       "    </tr>\n",
       "    <tr>\n",
       "      <th>Hound</th>\n",
       "      <td>22</td>\n",
       "      <td>22</td>\n",
       "      <td>22</td>\n",
       "    </tr>\n",
       "    <tr>\n",
       "      <th>Mixed</th>\n",
       "      <td>2</td>\n",
       "      <td>2</td>\n",
       "      <td>2</td>\n",
       "    </tr>\n",
       "    <tr>\n",
       "      <th>Non-Sporting</th>\n",
       "      <td>17</td>\n",
       "      <td>17</td>\n",
       "      <td>17</td>\n",
       "    </tr>\n",
       "    <tr>\n",
       "      <th>Sporting</th>\n",
       "      <td>26</td>\n",
       "      <td>26</td>\n",
       "      <td>26</td>\n",
       "    </tr>\n",
       "    <tr>\n",
       "      <th>Terrier</th>\n",
       "      <td>19</td>\n",
       "      <td>19</td>\n",
       "      <td>19</td>\n",
       "    </tr>\n",
       "    <tr>\n",
       "      <th>Toy</th>\n",
       "      <td>18</td>\n",
       "      <td>18</td>\n",
       "      <td>18</td>\n",
       "    </tr>\n",
       "    <tr>\n",
       "      <th>Working</th>\n",
       "      <td>30</td>\n",
       "      <td>30</td>\n",
       "      <td>30</td>\n",
       "    </tr>\n",
       "    <tr>\n",
       "      <th>none</th>\n",
       "      <td>16</td>\n",
       "      <td>16</td>\n",
       "      <td>16</td>\n",
       "    </tr>\n",
       "  </tbody>\n",
       "</table>\n",
       "</div>"
      ],
      "text/plain": [
       "              Dog Breed  Temperament  Weight\n",
       "Dog Group                                   \n",
       "                      1            1       1\n",
       "Herding              21           21      21\n",
       "Hound                22           22      22\n",
       "Mixed                 2            2       2\n",
       "Non-Sporting         17           17      17\n",
       "Sporting             26           26      26\n",
       "Terrier              19           19      19\n",
       "Toy                  18           18      18\n",
       "Working              30           30      30\n",
       "none                 16           16      16"
      ]
     },
     "execution_count": 10,
     "metadata": {},
     "output_type": "execute_result"
    }
   ],
   "source": [
    "dog_group = dogs_df.groupby('Dog Group')\n",
    "dog_group.count()"
   ]
  },
  {
   "cell_type": "code",
   "execution_count": null,
   "id": "premium-reducing",
   "metadata": {},
   "outputs": [],
   "source": []
  }
 ],
 "metadata": {
  "kernelspec": {
   "display_name": "Python 3",
   "language": "python",
   "name": "python3"
  },
  "language_info": {
   "codemirror_mode": {
    "name": "ipython",
    "version": 3
   },
   "file_extension": ".py",
   "mimetype": "text/x-python",
   "name": "python",
   "nbconvert_exporter": "python",
   "pygments_lexer": "ipython3",
   "version": "3.6.10"
  }
 },
 "nbformat": 4,
 "nbformat_minor": 5
}
