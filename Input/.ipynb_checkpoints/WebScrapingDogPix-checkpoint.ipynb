{
 "cells": [
  {
   "cell_type": "code",
   "execution_count": 1,
   "id": "hydraulic-supervisor",
   "metadata": {},
   "outputs": [],
   "source": [
    "import pandas as pd\n",
    "from splinter import Browser\n",
    "from bs4 import BeautifulSoup as bs\n",
    "from webdriver_manager.chrome import ChromeDriverManager"
   ]
  },
  {
   "cell_type": "code",
   "execution_count": 2,
   "id": "daily-violence",
   "metadata": {},
   "outputs": [
    {
     "name": "stderr",
     "output_type": "stream",
     "text": [
      "[WDM] - ====== WebDriver manager ======\n",
      "[WDM] - Current google-chrome version is 89.0.4389\n",
      "[WDM] - Get LATEST driver version for 89.0.4389\n"
     ]
    },
    {
     "name": "stdout",
     "output_type": "stream",
     "text": [
      "\n",
      "\n"
     ]
    },
    {
     "name": "stderr",
     "output_type": "stream",
     "text": [
      "[WDM] - Get LATEST driver version for 89.0.4389\n",
      "[WDM] - Trying to download new driver from https://chromedriver.storage.googleapis.com/89.0.4389.23/chromedriver_win32.zip\n",
      "[WDM] - Driver has been saved in cache [C:\\Users\\chels\\.wdm\\drivers\\chromedriver\\win32\\89.0.4389.23]\n"
     ]
    }
   ],
   "source": [
    "executable_path = {'executable_path': ChromeDriverManager().install()}\n",
    "browser = Browser(\"chrome\", **executable_path, headless=False)"
   ]
  },
  {
   "cell_type": "code",
   "execution_count": 5,
   "id": "respiratory-isaac",
   "metadata": {
    "scrolled": true
   },
   "outputs": [
    {
     "data": {
      "text/plain": [
       "'https://www.purina.com/sites/g/files/auxxlc196/files/styles/kraken_generic_max_width_240/public/TOY_Affenpinscher.jpg?itok=GkBB6p9d'"
      ]
     },
     "execution_count": 5,
     "metadata": {},
     "output_type": "execute_result"
    }
   ],
   "source": [
    "# STEP 1: pull image link of paffenpinscher\n",
    "browser.visit('https://www.purina.com/dogs/dog-breeds')\n",
    "browser.find_by_css('div.callout-media img')['src']"
   ]
  },
  {
   "cell_type": "code",
   "execution_count": null,
   "id": "pointed-kinase",
   "metadata": {},
   "outputs": [],
   "source": [
    "# STEP 2: pull all images for each dog breed\n",
    "# brainstorm: for loop to search each page for dog breed name (by url path)\n",
    "# brainstorm: if not found, try next page, etc \n",
    "# brainstorm: IF FOUND - save image under name in dictionary or dataframe\n"
   ]
  },
  {
   "cell_type": "markdown",
   "id": "distinguished-tiffany",
   "metadata": {},
   "source": [
    "### BELOW: Reference code from Web-scraping Homework \n",
    "-- (NOT part of Project 2, IGNORE BELOW - unless you need it) <p>\n",
    "-- DELETE BEFORE SUBMITTING PROJECT"
   ]
  },
  {
   "cell_type": "code",
   "execution_count": null,
   "id": "corresponding-passenger",
   "metadata": {},
   "outputs": [],
   "source": [
    "# to pull information from website main page\n",
    "# browser.visit('https://mars.nasa.gov/news/')\n",
    "\n",
    "# title = browser.find_by_css('div.content_title a').text\n",
    "# paragraph = browser.find_by_css('div.article_teaser_body').text\n",
    "# title,paragraph"
   ]
  },
  {
   "cell_type": "code",
   "execution_count": null,
   "id": "threatened-fossil",
   "metadata": {},
   "outputs": [],
   "source": [
    "# Pull picture\n",
    "# browser.visit('https://data-class-jpl-space.s3.amazonaws.com/JPL_Space/index.html')\n",
    "# browser.find_by_css('a.showimg')['href']"
   ]
  },
  {
   "cell_type": "code",
   "execution_count": null,
   "id": "super-sensitivity",
   "metadata": {},
   "outputs": [],
   "source": [
    "# convert table to html\n",
    "# pd.read_html('https://space-facts.com/mars/')[0].to_html()"
   ]
  },
  {
   "cell_type": "code",
   "execution_count": null,
   "id": "documented-hawaiian",
   "metadata": {},
   "outputs": [],
   "source": [
    "# drill down into website, visit sub pages to pull info from\n",
    "# browser.visit('https://astrogeology.usgs.gov/search/results?q=hemisphere+enhanced&k1=target&v1=Mars')\n",
    "\n",
    "# links = browser.find_by_css('a.itemLink h3')\n",
    "# hemispheres = []\n",
    "# for i in range(len(links)):\n",
    "#     hemisphere = {}\n",
    "#     hemisphere['title'] = browser.find_by_css('a.itemLink h3')[i].text\n",
    "#     browser.find_by_css('a.itemLink h3')[i].click()\n",
    "#     hemisphere['url'] = browser.find_by_text('Sample')['href']\n",
    "#     hemispheres.append(hemisphere)\n",
    "#     browser.back()\n",
    "# browser.quit()\n",
    "# hemispheres"
   ]
  },
  {
   "cell_type": "code",
   "execution_count": null,
   "id": "funded-sapphire",
   "metadata": {},
   "outputs": [],
   "source": []
  }
 ],
 "metadata": {
  "kernelspec": {
   "display_name": "Python 3",
   "language": "python",
   "name": "python3"
  },
  "language_info": {
   "codemirror_mode": {
    "name": "ipython",
    "version": 3
   },
   "file_extension": ".py",
   "mimetype": "text/x-python",
   "name": "python",
   "nbconvert_exporter": "python",
   "pygments_lexer": "ipython3",
   "version": "3.6.10"
  }
 },
 "nbformat": 4,
 "nbformat_minor": 5
}
